{
 "cells": [
  {
   "cell_type": "code",
   "execution_count": 3,
   "metadata": {},
   "outputs": [
    {
     "name": "stdout",
     "output_type": "stream",
     "text": [
      "hello\n"
     ]
    },
    {
     "data": {
      "text/plain": [
       "\"\\n동일하게 '를 3번 입력하여\\n사용할 수 있습니다\\n\""
      ]
     },
     "execution_count": 3,
     "metadata": {},
     "output_type": "execute_result"
    }
   ],
   "source": [
    "#주석입니다\n",
    "print(\"hello\") #코드 줄 끝에 사용할 수 있습니다.\n",
    "\n",
    "\"\"\"\n",
    "여러줄을 입력할 때는 \n",
    "쌍따옴표 3개를 이용합니다.\n",
    "\"\"\"\n",
    "\n",
    "'''\n",
    "동일하게 '를 3번 입력하여\n",
    "사용할 수 있습니다\n",
    "'''"
   ]
  },
  {
   "cell_type": "code",
   "execution_count": 4,
   "metadata": {},
   "outputs": [
    {
     "name": "stdout",
     "output_type": "stream",
     "text": [
      "\n",
      "여러줄의 스트링을\n",
      "입력할 수 있습니다\n",
      "\n"
     ]
    }
   ],
   "source": [
    "a_str = \"\"\"\n",
    "여러줄의 스트링을\n",
    "입력할 수 있습니다\n",
    "\"\"\"\n",
    "\n",
    "print(a_str)"
   ]
  },
  {
   "cell_type": "code",
   "execution_count": 5,
   "metadata": {},
   "outputs": [],
   "source": [
    "# '''\n",
    "# ctrl + / 로도 주석처리가\n",
    "# 가능합니다\n",
    "# '''"
   ]
  }
 ],
 "metadata": {
  "kernelspec": {
   "display_name": "base",
   "language": "python",
   "name": "python3"
  },
  "language_info": {
   "codemirror_mode": {
    "name": "ipython",
    "version": 3
   },
   "file_extension": ".py",
   "mimetype": "text/x-python",
   "name": "python",
   "nbconvert_exporter": "python",
   "pygments_lexer": "ipython3",
   "version": "3.11.4"
  },
  "orig_nbformat": 4
 },
 "nbformat": 4,
 "nbformat_minor": 2
}
