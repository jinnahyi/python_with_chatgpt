{
 "cells": [
  {
   "cell_type": "code",
   "execution_count": 2,
   "metadata": {},
   "outputs": [
    {
     "name": "stdout",
     "output_type": "stream",
     "text": [
      "두개의 값은 같습니다\n"
     ]
    }
   ],
   "source": [
    "a,b =1,1\n",
    "if(a==b):\n",
    "    print(\"두개의 값은 같습니다\")\n",
    "else:\n",
    "    print(\"두개의 값은 다릅니다\")"
   ]
  },
  {
   "cell_type": "code",
   "execution_count": 3,
   "metadata": {},
   "outputs": [
    {
     "name": "stdout",
     "output_type": "stream",
     "text": [
      "b가 더 큽니다\n"
     ]
    }
   ],
   "source": [
    "a, b = 1,2\n",
    "if(a==b):\n",
    "    print(\"두개의 값은 같습니다\")\n",
    "elif(a<b):\n",
    "    print(\"b가 더 큽니다\")"
   ]
  },
  {
   "cell_type": "code",
   "execution_count": 8,
   "metadata": {},
   "outputs": [
    {
     "name": "stdout",
     "output_type": "stream",
     "text": [
      "한 조건이상 만족\n",
      "두 조건 만족\n"
     ]
    }
   ],
   "source": [
    "a,b,c,d =1,1,2,2\n",
    "if a==b or c!=d:\n",
    "    print(\"한 조건이상 만족\")\n",
    "if a==b and c==d:\n",
    "    print(\"두 조건 만족\")"
   ]
  },
  {
   "cell_type": "code",
   "execution_count": 9,
   "metadata": {},
   "outputs": [
    {
     "name": "stdout",
     "output_type": "stream",
     "text": [
      "hel 이 포함되어 있습니다\n"
     ]
    }
   ],
   "source": [
    "a_str =\"hello python\"\n",
    "if \"hel\" in a_str:\n",
    "    print(\"hel 이 포함되어 있습니다\")"
   ]
  },
  {
   "cell_type": "code",
   "execution_count": 10,
   "metadata": {},
   "outputs": [
    {
     "name": "stdout",
     "output_type": "stream",
     "text": [
      "1이 포함되어 있습니다\n",
      "3이 포함되어 있지 않습니다.\n"
     ]
    }
   ],
   "source": [
    "alist= [\"hello\", 1,2]\n",
    "if 1 in alist:\n",
    "    print(\"1이 포함되어 있습니다\")\n",
    "if \"hel\" in alist:\n",
    "    print(\"hel이 포함되어 있습니다.\")\n",
    "if 3 not in alist:\n",
    "    print(\"3이 포함되어 있지 않습니다.\")"
   ]
  }
 ],
 "metadata": {
  "kernelspec": {
   "display_name": "base",
   "language": "python",
   "name": "python3"
  },
  "language_info": {
   "codemirror_mode": {
    "name": "ipython",
    "version": 3
   },
   "file_extension": ".py",
   "mimetype": "text/x-python",
   "name": "python",
   "nbconvert_exporter": "python",
   "pygments_lexer": "ipython3",
   "version": "3.11.4"
  },
  "orig_nbformat": 4
 },
 "nbformat": 4,
 "nbformat_minor": 2
}
