{
 "cells": [
  {
   "cell_type": "code",
   "execution_count": 1,
   "metadata": {},
   "outputs": [
    {
     "name": "stdout",
     "output_type": "stream",
     "text": [
      "hello\n",
      "hi\n"
     ]
    }
   ],
   "source": [
    "class Greet():\n",
    "    def hello(self):\n",
    "        print(\"hello\")\n",
    "    def hi(self):\n",
    "        print(\"hi\")\n",
    "human1 =Greet()\n",
    "human2 =Greet()\n",
    "human1.hello()\n",
    "human2.hi()"
   ]
  },
  {
   "cell_type": "code",
   "execution_count": 3,
   "metadata": {},
   "outputs": [
    {
     "name": "stdout",
     "output_type": "stream",
     "text": [
      "이름:김철수, 나이:17, 좋아하는 것:축구\n"
     ]
    }
   ],
   "source": [
    "class Student():\n",
    "    def __init__(self,name,age,like):\n",
    "        self.name =name\n",
    "        self.age =age\n",
    "        self.like =like\n",
    "    def student_info(self):\n",
    "        print(f'이름:{self.name}, 나이:{self.age}, 좋아하는 것:{self.like}')\n",
    "김철수 = Student(\"김철수\",17,\"축구\")\n",
    "김철수.student_info()"
   ]
  },
  {
   "cell_type": "code",
   "execution_count": 5,
   "metadata": {},
   "outputs": [
    {
     "name": "stdout",
     "output_type": "stream",
     "text": [
      "엄마는\n",
      "키가 크다\n",
      "딸은\n",
      "키가 크다\n",
      "운동을 잘한다\n"
     ]
    }
   ],
   "source": [
    "class Mom():\n",
    "    def characteristic(self):\n",
    "        print(\"키가 크다\")\n",
    "class daughter(Mom):\n",
    "    def characteristic(self):\n",
    "        super().characteristic()\n",
    "        print(\"운동을 잘한다\")\n",
    "엄마 = Mom()\n",
    "딸 = daughter()\n",
    "print(\"엄마는\")\n",
    "엄마.characteristic()\n",
    "print(\"딸은\")\n",
    "딸.characteristic()"
   ]
  },
  {
   "cell_type": "code",
   "execution_count": 8,
   "metadata": {},
   "outputs": [
    {
     "name": "stdout",
     "output_type": "stream",
     "text": [
      "엄마는\n",
      "키가 크다\n",
      "딸은\n",
      "키가 크다\n",
      "운동을 잘한다\n"
     ]
    }
   ],
   "source": [
    "class Mom():\n",
    "    def __init__(self):\n",
    "        print(\"키가 크다\")\n",
    "class daughter(Mom):\n",
    "    def __init__(self):\n",
    "        super().__init__()\n",
    "        print(\"운동을 잘한다\")\n",
    "print(\"엄마는\")\n",
    "엄마=Mom()\n",
    "print(\"딸은\")\n",
    "딸=daughter()"
   ]
  }
 ],
 "metadata": {
  "kernelspec": {
   "display_name": "base",
   "language": "python",
   "name": "python3"
  },
  "language_info": {
   "codemirror_mode": {
    "name": "ipython",
    "version": 3
   },
   "file_extension": ".py",
   "mimetype": "text/x-python",
   "name": "python",
   "nbconvert_exporter": "python",
   "pygments_lexer": "ipython3",
   "version": "3.11.4"
  },
  "orig_nbformat": 4
 },
 "nbformat": 4,
 "nbformat_minor": 2
}
