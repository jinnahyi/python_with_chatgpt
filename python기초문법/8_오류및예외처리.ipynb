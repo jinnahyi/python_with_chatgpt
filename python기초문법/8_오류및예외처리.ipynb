{
 "cells": [
  {
   "cell_type": "code",
   "execution_count": 2,
   "metadata": {},
   "outputs": [
    {
     "name": "stdout",
     "output_type": "stream",
     "text": [
      "에러발생\n",
      "에러를 무시\n"
     ]
    }
   ],
   "source": [
    "try:\n",
    "    150/0\n",
    "except:\n",
    "    print(\"에러발생\")\n",
    "    pass\n",
    "print(\"에러를 무시\")"
   ]
  },
  {
   "cell_type": "code",
   "execution_count": 3,
   "metadata": {},
   "outputs": [
    {
     "name": "stdout",
     "output_type": "stream",
     "text": [
      "원인: division by zero\n"
     ]
    }
   ],
   "source": [
    "try:\n",
    "    150/0\n",
    "except Exception as e:\n",
    "    print(\"원인:\",e)"
   ]
  }
 ],
 "metadata": {
  "kernelspec": {
   "display_name": "base",
   "language": "python",
   "name": "python3"
  },
  "language_info": {
   "codemirror_mode": {
    "name": "ipython",
    "version": 3
   },
   "file_extension": ".py",
   "mimetype": "text/x-python",
   "name": "python",
   "nbconvert_exporter": "python",
   "pygments_lexer": "ipython3",
   "version": "3.11.4"
  },
  "orig_nbformat": 4
 },
 "nbformat": 4,
 "nbformat_minor": 2
}
